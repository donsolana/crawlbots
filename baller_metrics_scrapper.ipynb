{
 "cells": [
  {
   "cell_type": "markdown",
   "metadata": {},
   "source": [
    "## Baller-Metrics\n",
    "\n",
    "### Introduction\n",
    "\n",
    "If you ask me, one of the coolest appilications of Data Science is in sports, asides summary statistics, the field of Sport Analytics deals with the analysis of sport data to reveal insightful patterns that can improve in-game performance, reduce uncertainty in the outcome of games or even uncover overlooked talent. The techniques behind sport analytics are some of the most elegant implementations of mathematical modelling, however, the results are the stuff of headlines.\n",
    "\n",
    "In this project you will journey with me as we curate a robust dataset that will allow for a number of sport analytics techniques. The dataset will be primarily based on game-by-game data for each active player. Information on each team and player attributes will be combined to this dataset to form a database.\n"
   ]
  },
  {
   "cell_type": "code",
   "execution_count": null,
   "metadata": {},
   "outputs": [],
   "source": [
    "import string\n",
    "import scrapy\n",
    "import pandas as pd\n",
    "# Import the CrawlerProcess\n",
    "from scrapy.crawler import CrawlerProcess"
   ]
  },
  {
   "cell_type": "code",
   "execution_count": null,
   "metadata": {},
   "outputs": [],
   "source": [
    "# create list of a to z, excluding x\n",
    "strings = string.ascii_lowercase[:23] + \"yz\"\n",
    "\n",
    "base_url = \"https://www.basketball-reference.com/players/\"\n",
    "\n",
    "#Add Base \n",
    "url_list= [base_url + string for string in strings]\n"
   ]
  },
  {
   "cell_type": "code",
   "execution_count": null,
   "metadata": {},
   "outputs": [],
   "source": [
    "# Create the Spider class\n",
    "class BasketSpider(scrapy.Spider):\n",
    "    name = 'BasketSpider'\n",
    "    # start_requests method\n",
    "    def start_requests( self ):\n",
    "        #Batched manually by adjusting the index below\n",
    "        for url in url_list[10:]:\n",
    "            yield scrapy.Request(url ,callback = self.parse_getplayers)\n",
    "          \n",
    "    \n",
    "\n",
    "    def parse_getplayers(self, response):\n",
    "        # get links to all bold letters\n",
    "        players_links = response.xpath('//tbody//tr//strong/a/@href').extract()\n",
    "        #follow link\n",
    "        for player_link in players_links:\n",
    "            yield response.follow(url = player_link, callback = self.parse_getseasons)\n",
    "    \n",
    "    \n",
    "    def parse_getseasons(self, response):\n",
    "        # get links to all bold letters\n",
    "        season_links = response.xpath('//div[@id=\"inner_nav\"]/ul/li[2]/div/ul[1]//@href').extract()\n",
    "        #follow link\n",
    "        for season_link in season_links:\n",
    "            gamelog_table = season_link\n",
    "            yield response.follow(url = gamelog_table, callback = self.parse)\n",
    "        \n",
    "    def parse(self, response):\n",
    "        #parse player name\n",
    "        player_name = response.xpath('//div[@id=\"inner_nav\"]/ul/li[1]/a/u').extract_first()[3:-13]\n",
    "        \n",
    "        game_stats = response.xpath('//table/tbody//tr')\n",
    "        # ignore the table header row\n",
    "        for game in game_stats[1:]:\n",
    "            three_pct = game.xpath('td[15]//text()').extract_first()\n",
    "            three = game.xpath('td[13]//text()').extract_first()\n",
    "            threePA = game.xpath('td[14]//text()').extract_first()\n",
    "            plus_minus = game.xpath('td[29]//text()').extract_first()\n",
    "            FG_pct = game.xpath('td[12]//text()').extract_first()\n",
    "            FT_pct = game.xpath('td[18]//text()').extract_first()\n",
    "            G    =  game.xpath('td[1]//text()').extract_first()\n",
    "            Date =  game.xpath('td[2]//text()').extract_first()\n",
    "            Age  =  game.xpath('td[3]//text()').extract_first()\n",
    "            Team =  game.xpath('td[4]//text()').extract_first()\n",
    "            At   =  game.xpath('td[5]//text()').extract_first()\n",
    "            Opp  =  game.xpath('td[6]//text()').extract_first()\n",
    "            Form =  game.xpath('td[7]//text()').extract_first()\n",
    "            GS   =  game.xpath('td[8]//text()').extract_first()\n",
    "            MP   =  game.xpath('td[9]//text()').extract_first()\n",
    "            FG   =  game.xpath('td[10]//text()').extract_first()\n",
    "            FGA  =  game.xpath('td[11]//text()').extract_first() \n",
    "            FT   =  game.xpath('td[16]//text()').extract_first()\n",
    "            FTA  =  game.xpath('td[17]//text()').extract_first() \n",
    "            ORB  =  game.xpath('td[19]//text()').extract_first()\n",
    "            DRB  =  game.xpath('td[20]//text()').extract_first()\n",
    "            TRB  =  game.xpath('td[21]//text()').extract_first()\n",
    "            AST  =  game.xpath('td[22]//text()').extract_first()\n",
    "            STL  =  game.xpath('td[23]//text()').extract_first()\n",
    "            BLK  =  game.xpath('td[24]//text()').extract_first()\n",
    "            TOV  =  game.xpath('td[25]//text()').extract_first()\n",
    "            PF   =  game.xpath('td[26]//text()').extract_first()\n",
    "            PTS  =  game.xpath('td[27]//text()').extract_first()\n",
    "            GmSc =  game.xpath('td[28]//text()').extract_first()\n",
    "            name =  player_name\n",
    "            if Date is None:\n",
    "                key = name + '0'\n",
    "            else:\n",
    "                key = name + \" / \" + Date\n",
    "            #dates are unique for each player. A unique key is name + date\n",
    "            player_stats[key] = [G,Date,Age,Team,At,Opp,Form,GS,MP,FG,FGA,FG_pct,three,threePA,three_pct,FT,FTA,FT_pct,ORB,DRB,TRB,AST,STL,BLK,TOV,PF,PTS,GmSc,plus_minus]\n",
    "            \n",
    "\n",
    "player_stats = {}\n",
    "              \n",
    " # Run the Spider\n",
    "process = CrawlerProcess()\n",
    "process.crawl(BasketSpider)\n",
    "process.start()\n",
    "\n"
   ]
  },
  {
   "cell_type": "code",
   "execution_count": null,
   "metadata": {},
   "outputs": [],
   "source": [
    "len(player_stats)"
   ]
  },
  {
   "cell_type": "code",
   "execution_count": null,
   "metadata": {},
   "outputs": [],
   "source": [
    "#convert dictionary of stats into table\n",
    "df = pd.DataFrame.from_dict(player_stats).transpose()\n"
   ]
  },
  {
   "cell_type": "code",
   "execution_count": null,
   "metadata": {},
   "outputs": [],
   "source": [
    "df.head()"
   ]
  },
  {
   "cell_type": "code",
   "execution_count": null,
   "metadata": {},
   "outputs": [],
   "source": [
    "#rename columns in a table\n",
    "df.columns = [\n",
    " 'key','G','Age','Team','At','Opp','Form',\n",
    " 'GS','MP','FG','FGA','FG_pct','three',\n",
    " 'threePA','three_pct','FT','FTA',\n",
    " 'FT_pct','ORB','DRB','TRB','AST','STL',\n",
    " 'BLK','TOV','PF','PTS','GmSc','plus_minus'\n",
    "]"
   ]
  },
  {
   "cell_type": "code",
   "execution_count": null,
   "metadata": {},
   "outputs": [],
   "source": [
    "df.to_csv(\"player_stats2.csv\")"
   ]
  },
  {
   "cell_type": "code",
   "execution_count": null,
   "metadata": {},
   "outputs": [],
   "source": []
  }
 ],
 "metadata": {
  "kernelspec": {
   "display_name": "Python 3",
   "language": "python",
   "name": "python3"
  },
  "language_info": {
   "codemirror_mode": {
    "name": "ipython",
    "version": 3
   },
   "file_extension": ".py",
   "mimetype": "text/x-python",
   "name": "python",
   "nbconvert_exporter": "python",
   "pygments_lexer": "ipython3",
   "version": "3.8.5"
  }
 },
 "nbformat": 4,
 "nbformat_minor": 4
}
